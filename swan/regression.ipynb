{
 "cells": [
  {
   "cell_type": "code",
   "execution_count": 67,
   "metadata": {},
   "outputs": [],
   "source": [
    "import pandas as pd\n",
    "import matplotlib.pyplot as plt \n",
    "from sklearn.linear_model import LinearRegression\n",
    "from sklearn.model_selection import train_test_split\n",
    "from sklearn.metrics import mean_squared_error, r2_score\n",
    "from sklearn.preprocessing import MinMaxScaler\n",
    "from sklearn.ensemble import RandomForestRegressor\n",
    "from sklearn.decomposition import PCA"
   ]
  },
  {
   "cell_type": "code",
   "execution_count": 68,
   "metadata": {},
   "outputs": [],
   "source": [
    "df = pd.read_csv(\"./data/PLACES__County_Data__GIS_Friendly_Format___2023_release_20231107_filtered.csv\")\n",
    "\n",
    "filtered_col_names = df.columns\n",
    "\n",
    "wo_fl = df[df[\"StateDesc\"] != \"Florida\"]\n",
    "clean_df = wo_fl[wo_fl[\"StateDesc\"] != \"District of Columbia\"]\n",
    "\n",
    "extra_data = pd.read_csv('./data/MainSheet-Table 1.csv')"
   ]
  },
  {
   "cell_type": "code",
   "execution_count": 69,
   "metadata": {},
   "outputs": [],
   "source": [
    "# Function to calculate weighted average\n",
    "def weighted_average(group):\n",
    "    weights = group['TotalPopulation']\n",
    "    exclude_cols = ['StateAbbr', 'StateDesc', 'CountyName', 'CountyFIPS', 'Geolocation']\n",
    "    weighted_values = group.drop(exclude_cols, axis=1).multiply(weights, axis=0)\n",
    "    weighted_sum = weighted_values.sum()\n",
    "    total_weights = weights.sum()\n",
    "    return weighted_sum / total_weights\n",
    "\n",
    "# Grouping by 'StateDesc' and calculating weighted averages for other columns\n",
    "state_df = clean_df.groupby('StateDesc').apply(weighted_average).reset_index()\n",
    "\n",
    "merged_data = pd.merge(state_df, extra_data, on='StateDesc')"
   ]
  },
  {
   "cell_type": "code",
   "execution_count": 70,
   "metadata": {},
   "outputs": [
    {
     "data": {
      "text/plain": [
       "Index(['StateDesc', 'TotalPopulation', 'ACCESS2_AdjPrev', 'ARTHRITIS_AdjPrev',\n",
       "       'BINGE_AdjPrev', 'BPHIGH_AdjPrev', 'BPMED_AdjPrev', 'CANCER_AdjPrev',\n",
       "       'CASTHMA_AdjPrev', 'CERVICAL_AdjPrev', 'CHD_AdjPrev', 'CHECKUP_AdjPrev',\n",
       "       'CHOLSCREEN_AdjPrev', 'COLON_SCREEN_AdjPrev', 'COPD_AdjPrev',\n",
       "       'COREM_AdjPrev', 'COREW_AdjPrev', 'CSMOKING_AdjPrev', 'DENTAL_AdjPrev',\n",
       "       'DEPRESSION_AdjPrev', 'DIABETES_AdjPrev', 'GHLTH_AdjPrev',\n",
       "       'HIGHCHOL_AdjPrev', 'KIDNEY_AdjPrev', 'LPA_AdjPrev', 'MAMMOUSE_AdjPrev',\n",
       "       'MHLTH_AdjPrev', 'OBESITY_AdjPrev', 'PHLTH_AdjPrev', 'SLEEP_AdjPrev',\n",
       "       'STROKE_AdjPrev', 'TEETHLOST_AdjPrev', 'HEARING_AdjPrev',\n",
       "       'VISION_AdjPrev', 'COGNITION_AdjPrev', 'MOBILITY_AdjPrev',\n",
       "       'SELFCARE_AdjPrev', 'INDEPLIVE_AdjPrev', 'DISABILITY_AdjPrev',\n",
       "       'workout', 'all', 'mcdonalds', 'burgerking', 'tacobell', 'dominos',\n",
       "       'kfc', 'mc_tb_do_kc', 'gdp_22'],\n",
       "      dtype='object')"
      ]
     },
     "execution_count": 70,
     "metadata": {},
     "output_type": "execute_result"
    }
   ],
   "source": [
    "merged_data.columns"
   ]
  },
  {
   "cell_type": "code",
   "execution_count": 71,
   "metadata": {},
   "outputs": [],
   "source": [
    "new_column_names = {\n",
    "    'ACCESS2_AdjPrev': 'Health Insurance', \n",
    "    'ARTHRITIS_AdjPrev': 'Arthritis', \n",
    "    'BINGE_AdjPrev': 'Binge Drinking',\n",
    "    'BPHIGH_AdjPrev': 'High Blood Pressure',\n",
    "    'BPMED_AdjPrev': 'Blood Pressure Medication',\n",
    "    'CANCER_AdjPrev': 'Cancer',\n",
    "    'CASTHMA_AdjPrev': 'Asthma',\n",
    "    'CERVICAL_AdjPrev': 'Cervical Cancer Screeening',\n",
    "    'CHD_AdjPrev': 'Coronary Heart Disease',\n",
    "    'CHECKUP_AdjPrev': 'Checkup Last Year',\n",
    "    'CHOLSCREEN_AdjPrev': 'Cholesterol Screening',\n",
    "    'COLON_SCREEN_AdjPrev': 'Colorectal Cancer Screening',\n",
    "    'COPD_AdjPrev': 'Chronic Obstructive Pulmonary Disease',\n",
    "    'CSMOKING_AdjPrev': 'Smoking',\n",
    "    'DENTAL_AdjPrev': 'Dental Visits',\n",
    "    'DEPRESSION_AdjPrev': 'Depression',\n",
    "    'DIABETES_AdjPrev': 'Diabetes',\n",
    "    'GHLTH_AdjPrev': 'Poor Self Rated Health Status',\n",
    "    'HIGHCHOL_AdjPrev': 'High Cholesterol',\n",
    "    'KIDNEY_AdjPrev': 'Chronic Kidney Disease',\n",
    "    'LPA_AdjPrev':'No leisure-time Physical Activity',\n",
    "    'MAMMOUSE_AdjPrev': 'Mammography',\n",
    "    'MHLTH_AdjPrev': 'Bad Mental Health',\n",
    "    'OBESITY_AdjPrev': 'Obesity',\n",
    "    'PHLTH_AdjPrev': 'Bad Physical Health',\n",
    "    'SLEEP_AdjPrev': 'Sleep < 7h',\n",
    "    'STROKE_AdjPrev': 'Stroke',\n",
    "    'TEETHLOST_AdjPrev': 'All Teeth Lost',\n",
    "    'HEARING_AdjPrev': 'Hearing Disability',\n",
    "    'VISION_AdjPrev': 'Vision Disability',\n",
    "    'COGNITION_AdjPrev': 'Cognative Disability',\n",
    "    'MOBILITY_AdjPrev': 'Mobility Disability',\n",
    "    'SELFCARE_AdjPrev': 'Self-care Disability',\n",
    "    'INDEPLIVE_AdjPrev': 'Independent Living Disability',\n",
    "    'DISABILITY_AdjPrev': 'Disability',\n",
    "    'workout': 'Excercising',\n",
    "    'mcdonalds': 'McDonalds',\n",
    "    'burgerking': 'Burger King',\n",
    "    'tacobell': 'Taco Bell', \n",
    "    'dominos': 'Dominos',\n",
    "    'kfc': 'KFC',\n",
    "    'gdp_22': 'GDP',\n",
    "    'all': 'Fastfood Availability',\n",
    "    'mc_tb_do_kc': 'Fastfood'\n",
    "    }\n",
    "\n",
    "renamed_df = merged_data.rename(columns=new_column_names)"
   ]
  },
  {
   "cell_type": "code",
   "execution_count": 72,
   "metadata": {},
   "outputs": [
    {
     "data": {
      "text/plain": [
       "count    48.000000\n",
       "mean     22.860417\n",
       "std       4.575408\n",
       "min      13.500000\n",
       "25%      20.175000\n",
       "50%      23.600000\n",
       "75%      25.450000\n",
       "max      32.500000\n",
       "Name: Excercising, dtype: float64"
      ]
     },
     "execution_count": 72,
     "metadata": {},
     "output_type": "execute_result"
    }
   ],
   "source": [
    "renamed_df[\"Excercising\"].describe()"
   ]
  },
  {
   "cell_type": "code",
   "execution_count": 73,
   "metadata": {},
   "outputs": [
    {
     "name": "stdout",
     "output_type": "stream",
     "text": [
      "Mean Squared Error (MSE): 6.654905299865538\n",
      "R-squared (R2): 0.39920927681155705\n"
     ]
    }
   ],
   "source": [
    "# Splitting the data into training and testing sets (80% train, 20% test)\n",
    "data = renamed_df.drop([\"StateDesc\"], axis=1)\n",
    "\n",
    "#X = data.drop([\"Obesity\"], axis=1)\n",
    "y = data[\"Obesity\"]\n",
    "\n",
    "X = data[[\"TotalPopulation\", \"GDP\", \"Excercising\", \"Smoking\", 'Fastfood Availability']]\n",
    "\n",
    "X_train, X_test, y_train, y_test = train_test_split(X, y, test_size=0.2, random_state=42)\n",
    "\n",
    "columns_to_normalize = ['GDP', 'TotalPopulation']\n",
    "\n",
    "# Initialize the MinMaxScaler\n",
    "scaler = MinMaxScaler((0, 100))\n",
    "\n",
    "# Fit and transform the selected columns\n",
    "X_train[columns_to_normalize] = scaler.fit_transform(X_train[columns_to_normalize])\n",
    "\n",
    "# Creating a linear regression model\n",
    "model = LinearRegression()\n",
    "\n",
    "# Fitting the model with the training data\n",
    "model.fit(X_train.drop([\"TotalPopulation\"], axis=1), y_train, sample_weight=X_train[\"TotalPopulation\"])\n",
    "# model.fit(X_train.drop([\"TotalPopulation\"], axis=1), y_train)\n",
    "\n",
    "X_test[columns_to_normalize] = scaler.transform(X_test[columns_to_normalize])\n",
    "\n",
    "\n",
    "y_pred = model.predict(X_test.drop([\"TotalPopulation\"], axis=1))\n",
    "\n",
    "mse = mean_squared_error(y_test, y_pred)\n",
    "r2 = r2_score(y_test, y_pred)\n",
    "\n",
    "print(f\"Mean Squared Error (MSE): {mse}\")\n",
    "print(f\"R-squared (R2): {r2}\")"
   ]
  },
  {
   "cell_type": "code",
   "execution_count": 74,
   "metadata": {},
   "outputs": [
    {
     "data": {
      "text/plain": [
       "array([ 0.01428407, -0.26780554,  0.70545962, -0.12661356])"
      ]
     },
     "execution_count": 74,
     "metadata": {},
     "output_type": "execute_result"
    }
   ],
   "source": [
    "model.coef_"
   ]
  },
  {
   "cell_type": "code",
   "execution_count": 75,
   "metadata": {},
   "outputs": [
    {
     "data": {
      "image/png": "[encoded data removed]",
      "text/plain": [
       "<Figure size 800x500 with 1 Axes>"
      ]
     },
     "metadata": {},
     "output_type": "display_data"
    }
   ],
   "source": [
    "coef_df = pd.DataFrame({\n",
    "    'name': [\"GDP\", \"Excercising\", \"Smoking\", 'Fastfood Availability'],\n",
    "    'coefficient': model.coef_\n",
    "})\n",
    "\n",
    "plt.figure(figsize=(8, 5))  # Set the figure size (width, height)\n",
    "\n",
    "# Create a bar plot\n",
    "plt.bar(coef_df['name'], coef_df['coefficient'], color='skyblue')\n",
    "\n",
    "# Set labels and title\n",
    "plt.xlabel('Variable Name')\n",
    "plt.ylabel('Coefficient')\n",
    "plt.title('Regression Coefficients')\n",
    "plt.axhline(y=0, color='black', linestyle='-', linewidth=1)\n",
    "\n",
    "\n",
    "# Rotate x-axis labels for better readability\n",
    "plt.xticks(rotation=45)\n",
    "\n",
    "# Show plot\n",
    "plt.tight_layout()  # Adjust layout for better appearance\n",
    "plt.show()"
   ]
  },
  {
   "cell_type": "code",
   "execution_count": 76,
   "metadata": {},
   "outputs": [
    {
     "name": "stdout",
     "output_type": "stream",
     "text": [
      "Mean Squared Error: 3.110351125658588\n",
      "R-squared (R2): 0.7192041031459656\n"
     ]
    }
   ],
   "source": [
    "data = renamed_df.drop([\"StateDesc\", \"TotalPopulation\",], axis=1)\n",
    "\n",
    "\n",
    "X = data.drop([\"Obesity\"], axis=1)\n",
    "y = data[\"Obesity\"]\n",
    "\n",
    "# Split the data into training and testing sets\n",
    "X_train, X_test, y_train, y_test = train_test_split(X, y, test_size=0.2, random_state=42)\n",
    "\n",
    "\n",
    "columns_to_normalize = ['GDP']\n",
    "\n",
    "# Initialize the MinMaxScaler\n",
    "scaler = MinMaxScaler((0, 100))\n",
    "\n",
    "# Fit and transform the selected columns\n",
    "X_train[columns_to_normalize] = scaler.fit_transform(X_train[columns_to_normalize])\n",
    "\n",
    "# Initialize PCA with desired number of components\n",
    "num_components = 30  # You can choose the number of components\n",
    "pca = PCA(n_components=num_components)\n",
    "\n",
    "# Fit PCA on training data and transform both training and testing data\n",
    "X_train_pca = pca.fit_transform(X_train)\n",
    "\n",
    "X_test[columns_to_normalize] = scaler.transform(X_test[columns_to_normalize])\n",
    "\n",
    "X_test_pca = pca.transform(X_test)\n",
    "\n",
    "# Initialize Linear Regression model\n",
    "model = LinearRegression()\n",
    "\n",
    "# Fit the model on the PCA-transformed training data\n",
    "model.fit(X_train_pca, y_train)\n",
    "\n",
    "# Make predictions on the test set\n",
    "predictions = model.predict(X_test_pca)\n",
    "\n",
    "# Evaluate the model\n",
    "mse = mean_squared_error(y_test, predictions)\n",
    "r2 = r2_score(y_test, predictions)\n",
    "\n",
    "print(f\"Mean Squared Error: {mse}\")\n",
    "print(f\"R-squared (R2): {r2}\")"
   ]
  },
  {
   "cell_type": "code",
   "execution_count": 77,
   "metadata": {},
   "outputs": [
    {
     "name": "stdout",
     "output_type": "stream",
     "text": [
      "Mean Squared Error (MSE): 10.26403435412236\n",
      "R-squared (R2): 0.07338476738823174\n"
     ]
    }
   ],
   "source": [
    "# Splitting the data into training and testing sets (80% train, 20% test)\n",
    "data = renamed_df.drop([\"StateDesc\"], axis=1)\n",
    "\n",
    "#X = data.drop([\"Obesity\"], axis=1)\n",
    "y = data[\"Obesity\"]\n",
    "\n",
    "X = data[[\"TotalPopulation\", \"GDP\", \"Excercising\", \"Smoking\", 'Fastfood Availability']]\n",
    "\n",
    "X_train, X_test, y_train, y_test = train_test_split(X, y, test_size=0.2, random_state=42)\n",
    "\n",
    "columns_to_normalize = ['GDP', 'TotalPopulation']\n",
    "\n",
    "# Initialize the MinMaxScaler\n",
    "scaler = MinMaxScaler((0, 100))\n",
    "\n",
    "# Fit and transform the selected columns\n",
    "X_train[columns_to_normalize] = scaler.fit_transform(X_train[columns_to_normalize])\n",
    "\n",
    "# Creating a linear regression model\n",
    "rf = RandomForestRegressor(random_state=42)\n",
    "\n",
    "\n",
    "# Fitting the model with the training data\n",
    "rf.fit(X_train.drop([\"TotalPopulation\"], axis=1), y_train, sample_weight=X_train[\"TotalPopulation\"])\n",
    "# model.fit(X_train.drop([\"TotalPopulation\"], axis=1), y_train)\n",
    "\n",
    "X_test[columns_to_normalize] = scaler.transform(X_test[columns_to_normalize])\n",
    "\n",
    "\n",
    "y_pred = rf.predict(X_test.drop([\"TotalPopulation\"], axis=1))\n",
    "\n",
    "mse = mean_squared_error(y_test, y_pred)\n",
    "r2 = r2_score(y_test, y_pred)\n",
    "\n",
    "print(f\"Mean Squared Error (MSE): {mse}\")\n",
    "print(f\"R-squared (R2): {r2}\")"
   ]
  },
  {
   "cell_type": "code",
   "execution_count": 78,
   "metadata": {},
   "outputs": [
    {
     "name": "stdout",
     "output_type": "stream",
     "text": [
      "Mean Squared Error (MSE): 12.749771411184357\n",
      "R-squared (R2): 0.3906111504530343\n"
     ]
    },
    {
     "data": {
      "text/plain": [
       "array([-0.06798716,  0.3116351 ,  1.07786225,  0.17421921,  0.05294744,\n",
       "        0.16113867])"
      ]
     },
     "execution_count": 78,
     "metadata": {},
     "output_type": "execute_result"
    }
   ],
   "source": [
    "# Splitting the data into training and testing sets (80% train, 20% test)\n",
    "new_column_names = {\n",
    "        'BINGE_AdjPrev': 'Binge Drinking',\n",
    "        'ACCESS2_AdjPrev': 'Health Insurance', \n",
    "        'GHLTH_AdjPrev': 'Poor Self Rated Health Status',\n",
    "        'OBESITY_AdjPrev': 'Obesity',\n",
    "        'MAMMOUSE_AdjPrev': 'Mammography',\n",
    "        'CSMOKING_AdjPrev': 'Smoking',\n",
    "        'DENTAL_AdjPrev': 'Dental Visits',\n",
    "}\n",
    "\n",
    "clean_df_renamed = clean_df.rename(columns=new_column_names)\n",
    "\n",
    "data = clean_df_renamed\n",
    "\n",
    "#X = data.drop([\"Obesity\"], axis=1)\n",
    "y = data[\"Obesity\"]\n",
    "\n",
    "X = data[[\"TotalPopulation\", \"Binge Drinking\", \"Health Insurance\", \"Smoking\", 'Poor Self Rated Health Status', 'Mammography', 'Dental Visits']]\n",
    "\n",
    "\n",
    "X_train, X_test, y_train, y_test = train_test_split(X, y, test_size=0.2, random_state=42)\n",
    "\n",
    "columns_to_normalize = ['TotalPopulation']\n",
    "scaler = MinMaxScaler()\n",
    "X_train[columns_to_normalize] = scaler.fit_transform(X_train[columns_to_normalize])\n",
    "\n",
    "# Creating a linear regression model\n",
    "model = LinearRegression()\n",
    "\n",
    "# Fitting the model with the training data\n",
    "model.fit(X_train.drop([\"TotalPopulation\"], axis=1), y_train, sample_weight=X_train[\"TotalPopulation\"])\n",
    "\n",
    "X_test[columns_to_normalize] = scaler.transform(X_test[columns_to_normalize])\n",
    "\n",
    "\n",
    "y_pred = model.predict(X_test.drop([\"TotalPopulation\"], axis=1))\n",
    "\n",
    "mse = mean_squared_error(y_test, y_pred)\n",
    "r2 = r2_score(y_test, y_pred)\n",
    "\n",
    "print(f\"Mean Squared Error (MSE): {mse}\")\n",
    "print(f\"R-squared (R2): {r2}\")\n",
    "\n",
    "model.coef_"
   ]
  },
  {
   "cell_type": "code",
   "execution_count": 79,
   "metadata": {},
   "outputs": [
    {
     "data": {
      "image/png": "[encoded data removed]",
      "text/plain": [
       "<Figure size 800x500 with 1 Axes>"
      ]
     },
     "metadata": {},
     "output_type": "display_data"
    }
   ],
   "source": [
    "coef_df = pd.DataFrame({\n",
    "    'name': [\"Binge Drinking\", \"Health Insurance\", \"Smoking\", 'Poor Self Rated Health Status', 'Mammography', 'Dental Visits'],\n",
    "    'coefficient': model.coef_\n",
    "})\n",
    "\n",
    "plt.figure(figsize=(8, 5))  # Set the figure size (width, height)\n",
    "\n",
    "# Create a bar plot\n",
    "plt.bar(coef_df['name'], coef_df['coefficient'], color='skyblue')\n",
    "\n",
    "# Set labels and title\n",
    "plt.xlabel('Variable Name')\n",
    "plt.ylabel('Coefficient')\n",
    "plt.title('Regression Coefficients')\n",
    "plt.axhline(y=0, color='black', linestyle='-', linewidth=1)\n",
    "\n",
    "\n",
    "# Rotate x-axis labels for better readability\n",
    "plt.xticks(rotation=45)\n",
    "\n",
    "# Show plot\n",
    "plt.tight_layout()  # Adjust layout for better appearance\n",
    "plt.show()"
   ]
  },
  {
   "cell_type": "code",
   "execution_count": 80,
   "metadata": {},
   "outputs": [
    {
     "name": "stdout",
     "output_type": "stream",
     "text": [
      "Mean Squared Error (MSE): 6.6703077983739805\n",
      "R-squared (R2): 0.6811855629184427\n"
     ]
    }
   ],
   "source": [
    "X_train, X_test, y_train, y_test = train_test_split(X, y, test_size=0.2, random_state=42)\n",
    "\n",
    "# Initializing Random Forest Regressor\n",
    "rf = RandomForestRegressor(random_state=42)\n",
    "\n",
    "# Fitting the model\n",
    "rf.fit(X_train, y_train)\n",
    "\n",
    "# Making predictions\n",
    "y_pred = rf.predict(X_test)\n",
    "\n",
    "# Evaluating the model\n",
    "mse = mean_squared_error(y_test, y_pred)\n",
    "r2 = r2_score(y_test, y_pred)\n",
    "\n",
    "print(f\"Mean Squared Error (MSE): {mse}\")\n",
    "print(f\"R-squared (R2): {r2}\")"
   ]
  },
  {
   "cell_type": "code",
   "execution_count": 83,
   "metadata": {},
   "outputs": [
    {
     "name": "stdout",
     "output_type": "stream",
     "text": [
      "Index(['StateAbbr', 'StateDesc', 'CountyName', 'CountyFIPS', 'TotalPopulation',\n",
      "       'ACCESS2_AdjPrev', 'ARTHRITIS_AdjPrev', 'BINGE_AdjPrev',\n",
      "       'BPHIGH_AdjPrev', 'BPMED_AdjPrev', 'CANCER_AdjPrev', 'CASTHMA_AdjPrev',\n",
      "       'CERVICAL_AdjPrev', 'CHD_AdjPrev', 'CHECKUP_AdjPrev',\n",
      "       'CHOLSCREEN_AdjPrev', 'COLON_SCREEN_AdjPrev', 'COPD_AdjPrev',\n",
      "       'COREM_AdjPrev', 'COREW_AdjPrev', 'CSMOKING_AdjPrev', 'DENTAL_AdjPrev',\n",
      "       'DEPRESSION_AdjPrev', 'DIABETES_AdjPrev', 'GHLTH_AdjPrev',\n",
      "       'HIGHCHOL_AdjPrev', 'KIDNEY_AdjPrev', 'LPA_AdjPrev', 'MAMMOUSE_AdjPrev',\n",
      "       'MHLTH_AdjPrev', 'OBESITY_AdjPrev', 'PHLTH_AdjPrev', 'SLEEP_AdjPrev',\n",
      "       'STROKE_AdjPrev', 'TEETHLOST_AdjPrev', 'HEARING_AdjPrev',\n",
      "       'VISION_AdjPrev', 'COGNITION_AdjPrev', 'MOBILITY_AdjPrev',\n",
      "       'SELFCARE_AdjPrev', 'INDEPLIVE_AdjPrev', 'DISABILITY_AdjPrev',\n",
      "       'Geolocation'],\n",
      "      dtype='object')\n",
      "Mean Squared Error: 5.138597088604873\n",
      "R-squared (R2): 0.7543953011296046\n"
     ]
    }
   ],
   "source": [
    "print(clean_df.columns)\n",
    "\n",
    "y = clean_df['OBESITY_AdjPrev']\n",
    "\n",
    "X = clean_df.drop([\"StateDesc\", 'Geolocation', 'StateAbbr', 'CountyName', 'CountyFIPS', 'TotalPopulation', 'OBESITY_AdjPrev'], axis=1)\n",
    "\n",
    "\n",
    "\n",
    "X_train, X_test, y_train, y_test = train_test_split(X, y, test_size=0.2, random_state=42)\n",
    "\n",
    "\n",
    "# Initialize PCA with desired number of components\n",
    "num_components = 30  # You can choose the number of components\n",
    "pca = PCA(n_components=num_components)\n",
    "\n",
    "# Fit PCA on training data and transform both training and testing data\n",
    "X_train_pca = pca.fit_transform(X_train)\n",
    "X_test_pca = pca.transform(X_test)\n",
    "\n",
    "# Initialize Linear Regression model\n",
    "model = LinearRegression()\n",
    "\n",
    "# Fit the model on the PCA-transformed training data\n",
    "model.fit(X_train_pca, y_train)\n",
    "\n",
    "# Make predictions on the test set\n",
    "predictions = model.predict(X_test_pca)\n",
    "\n",
    "# Evaluate the model\n",
    "mse = mean_squared_error(y_test, predictions)\n",
    "r2 = r2_score(y_test, predictions)\n",
    "\n",
    "print(f\"Mean Squared Error: {mse}\")\n",
    "print(f\"R-squared (R2): {r2}\")"
   ]
  }
 ],
 "metadata": {
  "kernelspec": {
   "display_name": "swan-zbYyC_c2-py3.12",
   "language": "python",
   "name": "python3"
  },
  "language_info": {
   "codemirror_mode": {
    "name": "ipython",
    "version": 3
   },
   "file_extension": ".py",
   "mimetype": "text/x-python",
   "name": "python",
   "nbconvert_exporter": "python",
   "pygments_lexer": "ipython3",
   "version": "3.12.1"
  }
 },
 "nbformat": 4,
 "nbformat_minor": 2
}
