{
 "cells": [
  {
   "cell_type": "code",
   "execution_count": 1,
   "metadata": {},
   "outputs": [],
   "source": [
    "import pandas as pd"
   ]
  },
  {
   "cell_type": "code",
   "execution_count": 9,
   "metadata": {},
   "outputs": [],
   "source": [
    "PATH_TO_FILE = \"./data/PLACES__County_Data__GIS_Friendly_Format___2023_release_20231107\"\n",
    "\n",
    "df = pd.read_csv(PATH_TO_FILE + \".csv\")\n",
    "\n",
    "filtered_col_names = []\n",
    "\n",
    "for col_name in df.columns:\n",
    "    if not \"crude\" in col_name.lower() and not \"95ci\" in col_name.lower():\n",
    "        filtered_col_names.append(col_name)\n",
    "\n",
    "filtered_df = df[filtered_col_names]\n",
    "\n",
    "filtered_df.to_csv(PATH_TO_FILE + \"_filtered.csv\")"
   ]
  },
  {
   "cell_type": "code",
   "execution_count": null,
   "metadata": {},
   "outputs": [],
   "source": []
  }
 ],
 "metadata": {
  "kernelspec": {
   "display_name": "swan-T_EWy10s-py3.12",
   "language": "python",
   "name": "python3"
  },
  "language_info": {
   "codemirror_mode": {
    "name": "ipython",
    "version": 3
   },
   "file_extension": ".py",
   "mimetype": "text/x-python",
   "name": "python",
   "nbconvert_exporter": "python",
   "pygments_lexer": "ipython3",
   "version": "3.12.0"
  }
 },
 "nbformat": 4,
 "nbformat_minor": 2
}
