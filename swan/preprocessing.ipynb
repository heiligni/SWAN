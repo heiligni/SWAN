{
 "cells": [
  {
   "cell_type": "code",
   "execution_count": 6,
   "metadata": {},
   "outputs": [],
   "source": [
    "import pandas as pd\n",
    "import matplotlib.pyplot as plt \n",
    "import seaborn as sns "
   ]
  },
  {
   "cell_type": "markdown",
   "metadata": {},
   "source": [
    "## Clean Files\n",
    "Remove all columns that contain crude values or 95 confidence interval values"
   ]
  },
  {
   "cell_type": "code",
   "execution_count": 7,
   "metadata": {},
   "outputs": [],
   "source": [
    "PATHS_TO_FILES = [\n",
    "    \"./data/PLACES__County_Data__GIS_Friendly_Format___2023_release_20231107\",\n",
    "    \"./data/PLACES__County_Data__GIS_Friendly_Format___2022_release\",\n",
    "    \"./data/PLACES__County_Data__GIS_Friendly_Format___2020_release\",\n",
    "    \"./data/PLACES__County_Data__GIS_Friendly_Format___2021_release\"\n",
    "    ]\n",
    "\n",
    "filtered = []\n",
    "\n",
    "for PATH_TO_FILE in PATHS_TO_FILES:\n",
    "    df = pd.read_csv(PATH_TO_FILE + \".csv\")\n",
    "\n",
    "    filtered_col_names = []\n",
    "\n",
    "    for col_name in df.columns:\n",
    "        if not \"crude\" in col_name.lower() and not \"95ci\" in col_name.lower():\n",
    "            filtered_col_names.append(col_name)\n",
    "\n",
    "    filtered_df = df[filtered_col_names]\n",
    "    filtered.append(filtered_df)\n",
    "\n",
    "    filtered_df.to_csv(PATH_TO_FILE + \"_filtered.csv\", index=False)"
   ]
  }
 ],
 "metadata": {
  "kernelspec": {
   "display_name": "swan-T_EWy10s-py3.12",
   "language": "python",
   "name": "python3"
  },
  "language_info": {
   "codemirror_mode": {
    "name": "ipython",
    "version": 3
   },
   "file_extension": ".py",
   "mimetype": "text/x-python",
   "name": "python",
   "nbconvert_exporter": "python",
   "pygments_lexer": "ipython3",
   "version": "3.12.0"
  }
 },
 "nbformat": 4,
 "nbformat_minor": 2
}
